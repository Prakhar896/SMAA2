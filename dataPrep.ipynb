{
 "cells": [
  {
   "cell_type": "markdown",
   "id": "724c46a9",
   "metadata": {},
   "source": [
    "# Load all data"
   ]
  },
  {
   "cell_type": "code",
   "execution_count": 1,
   "id": "99c2ec1f",
   "metadata": {},
   "outputs": [],
   "source": [
    "import os, json, sys, csv, time, re, random, datetime\n",
    "import pandas as pd"
   ]
  },
  {
   "cell_type": "code",
   "execution_count": 2,
   "id": "12602719",
   "metadata": {},
   "outputs": [
    {
     "name": "stdout",
     "output_type": "stream",
     "text": [
      "(71, 7)\n"
     ]
    },
    {
     "data": {
      "text/html": [
       "<div>\n",
       "<style scoped>\n",
       "    .dataframe tbody tr th:only-of-type {\n",
       "        vertical-align: middle;\n",
       "    }\n",
       "\n",
       "    .dataframe tbody tr th {\n",
       "        vertical-align: top;\n",
       "    }\n",
       "\n",
       "    .dataframe thead th {\n",
       "        text-align: right;\n",
       "    }\n",
       "</style>\n",
       "<table border=\"1\" class=\"dataframe\">\n",
       "  <thead>\n",
       "    <tr style=\"text-align: right;\">\n",
       "      <th></th>\n",
       "      <th>title</th>\n",
       "      <th>score</th>\n",
       "      <th>url</th>\n",
       "      <th>num_comments</th>\n",
       "      <th>created_utc</th>\n",
       "      <th>selftext</th>\n",
       "      <th>comments</th>\n",
       "    </tr>\n",
       "  </thead>\n",
       "  <tbody>\n",
       "    <tr>\n",
       "      <th>0</th>\n",
       "      <td>The AI DJ is so bad it's actually good</td>\n",
       "      <td>192</td>\n",
       "      <td>https://www.reddit.com/r/spotify/comments/1fuo...</td>\n",
       "      <td>72</td>\n",
       "      <td>1.727896e+09</td>\n",
       "      <td>The AI DJ Spotify introduced can get repetitiv...</td>\n",
       "      <td>['“Yo, let me play somethin’ you never heard b...</td>\n",
       "    </tr>\n",
       "    <tr>\n",
       "      <th>1</th>\n",
       "      <td>I don’t want to make fun of the AI DJ, is it j...</td>\n",
       "      <td>2</td>\n",
       "      <td>https://www.reddit.com/r/spotify/comments/1l6q...</td>\n",
       "      <td>14</td>\n",
       "      <td>1.749425e+09</td>\n",
       "      <td>Mine said Michael Jackson was soul, and it pla...</td>\n",
       "      <td>['Just today my dj went Spanish for a monologu...</td>\n",
       "    </tr>\n",
       "    <tr>\n",
       "      <th>2</th>\n",
       "      <td>Is Spotify’s AI DJ X actually good now?</td>\n",
       "      <td>13</td>\n",
       "      <td>https://www.reddit.com/r/spotify/comments/1isp...</td>\n",
       "      <td>11</td>\n",
       "      <td>1.739919e+09</td>\n",
       "      <td>I’ve noticed a bunch of my friends are listeni...</td>\n",
       "      <td>['I didn\\'t like it at first, but I definitely...</td>\n",
       "    </tr>\n",
       "    <tr>\n",
       "      <th>3</th>\n",
       "      <td>The new AI DJ in Spotify is genuinely awesome....</td>\n",
       "      <td>384</td>\n",
       "      <td>https://www.reddit.com/r/spotify/comments/1831...</td>\n",
       "      <td>285</td>\n",
       "      <td>1.700859e+09</td>\n",
       "      <td>Just in case anyone is not aware I'm not talki...</td>\n",
       "      <td>['I really liked it at first but after using i...</td>\n",
       "    </tr>\n",
       "    <tr>\n",
       "      <th>4</th>\n",
       "      <td>Spotify Debuts a New AI DJ, Right in Your Pocket</td>\n",
       "      <td>261</td>\n",
       "      <td>https://newsroom.spotify.com/2023-02-22/spotif...</td>\n",
       "      <td>139</td>\n",
       "      <td>1.677086e+09</td>\n",
       "      <td>NaN</td>\n",
       "      <td>[\"Key points:\\n\\n* Spotify has launched a new ...</td>\n",
       "    </tr>\n",
       "  </tbody>\n",
       "</table>\n",
       "</div>"
      ],
      "text/plain": [
       "                                               title  score  \\\n",
       "0            The AI DJ is so bad it's actually good     192   \n",
       "1  I don’t want to make fun of the AI DJ, is it j...      2   \n",
       "2            Is Spotify’s AI DJ X actually good now?     13   \n",
       "3  The new AI DJ in Spotify is genuinely awesome....    384   \n",
       "4   Spotify Debuts a New AI DJ, Right in Your Pocket    261   \n",
       "\n",
       "                                                 url  num_comments  \\\n",
       "0  https://www.reddit.com/r/spotify/comments/1fuo...            72   \n",
       "1  https://www.reddit.com/r/spotify/comments/1l6q...            14   \n",
       "2  https://www.reddit.com/r/spotify/comments/1isp...            11   \n",
       "3  https://www.reddit.com/r/spotify/comments/1831...           285   \n",
       "4  https://newsroom.spotify.com/2023-02-22/spotif...           139   \n",
       "\n",
       "    created_utc                                           selftext  \\\n",
       "0  1.727896e+09  The AI DJ Spotify introduced can get repetitiv...   \n",
       "1  1.749425e+09  Mine said Michael Jackson was soul, and it pla...   \n",
       "2  1.739919e+09  I’ve noticed a bunch of my friends are listeni...   \n",
       "3  1.700859e+09  Just in case anyone is not aware I'm not talki...   \n",
       "4  1.677086e+09                                                NaN   \n",
       "\n",
       "                                            comments  \n",
       "0  ['“Yo, let me play somethin’ you never heard b...  \n",
       "1  ['Just today my dj went Spanish for a monologu...  \n",
       "2  ['I didn\\'t like it at first, but I definitely...  \n",
       "3  ['I really liked it at first but after using i...  \n",
       "4  [\"Key points:\\n\\n* Spotify has launched a new ...  "
      ]
     },
     "execution_count": 2,
     "metadata": {},
     "output_type": "execute_result"
    }
   ],
   "source": [
    "# Create documents of reddit posts and comments\n",
    "redditData = pd.read_csv(\"reddit_spotify_ai_dj.csv\")\n",
    "\n",
    "print(redditData.shape)\n",
    "redditData.head()"
   ]
  },
  {
   "cell_type": "code",
   "execution_count": 3,
   "id": "f9600653",
   "metadata": {},
   "outputs": [
    {
     "data": {
      "text/plain": [
       "title            0\n",
       "score            0\n",
       "url              0\n",
       "num_comments     0\n",
       "created_utc      0\n",
       "selftext        10\n",
       "comments         0\n",
       "dtype: int64"
      ]
     },
     "execution_count": 3,
     "metadata": {},
     "output_type": "execute_result"
    }
   ],
   "source": [
    "redditData.isna().sum()"
   ]
  },
  {
   "cell_type": "code",
   "execution_count": 14,
   "id": "86a08d5e",
   "metadata": {},
   "outputs": [
    {
     "name": "stdout",
     "output_type": "stream",
     "text": [
      "0    [“Yo, let me play somethin’ you never heard be...\n",
      "1    [Just today my dj went Spanish for a monologue...\n",
      "2    [I didn't like it at first, but I definitely f...\n",
      "3    [I really liked it at first but after using it...\n",
      "4    [Key points:\\n\\n* Spotify has launched a new A...\n",
      "Name: comments, dtype: object\n",
      "<class 'list'>\n"
     ]
    }
   ],
   "source": [
    "import ast\n",
    "\n",
    "redditData.comments = redditData.comments.apply(lambda x: ast.literal_eval(x) if pd.notnull(x) else [])\n",
    "print(redditData.comments.head())\n",
    "print(type(redditData.comments[0]))"
   ]
  },
  {
   "cell_type": "code",
   "execution_count": 16,
   "id": "2adf1504",
   "metadata": {},
   "outputs": [],
   "source": [
    "consolidatedRedditPosts = []\n",
    "for index, row in redditData.iterrows():\n",
    "    content = \"{}\\n{}\\n\".format(row['title'] or 'Title Unavailable', row['selftext'] or 'Selftext Unavailable')\n",
    "    if 'comments' in row:\n",
    "        content += 'Comments:\\n'\n",
    "        for comment in row['comments']:\n",
    "            if pd.notnull(comment):\n",
    "                content += \"{}\\n\".format(comment)\n",
    "    \n",
    "    consolidatedRedditPosts.append(content)"
   ]
  },
  {
   "cell_type": "code",
   "execution_count": 17,
   "id": "62a06127",
   "metadata": {},
   "outputs": [],
   "source": [
    "for i, post in enumerate(consolidatedRedditPosts):\n",
    "    with open('data/redditPost{}.txt'.format(i), 'w') as f:\n",
    "        f.write(post)"
   ]
  },
  {
   "cell_type": "code",
   "execution_count": null,
   "id": "47e20d47",
   "metadata": {},
   "outputs": [],
   "source": []
  }
 ],
 "metadata": {
  "kernelspec": {
   "display_name": "virt",
   "language": "python",
   "name": "python3"
  },
  "language_info": {
   "codemirror_mode": {
    "name": "ipython",
    "version": 3
   },
   "file_extension": ".py",
   "mimetype": "text/x-python",
   "name": "python",
   "nbconvert_exporter": "python",
   "pygments_lexer": "ipython3",
   "version": "3.10.0"
  }
 },
 "nbformat": 4,
 "nbformat_minor": 5
}
